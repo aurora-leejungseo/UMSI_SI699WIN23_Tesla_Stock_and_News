{
 "cells": [
  {
   "cell_type": "code",
   "execution_count": 1,
   "id": "dee9b382-44d8-466b-93a8-37d344699115",
   "metadata": {
    "id": "dee9b382-44d8-466b-93a8-37d344699115"
   },
   "outputs": [],
   "source": [
    "import pandas as pd"
   ]
  },
  {
   "cell_type": "code",
   "execution_count": 2,
   "id": "1aa4c513-e566-49d0-81c8-6a6c5a03d9e4",
   "metadata": {
    "id": "1aa4c513-e566-49d0-81c8-6a6c5a03d9e4"
   },
   "outputs": [],
   "source": [
    "news_data = pd.read_csv(\"output.csv\")"
   ]
  },
  {
   "cell_type": "code",
   "execution_count": 3,
   "id": "43d44d57-e22a-48f6-a996-139f59e52c6a",
   "metadata": {
    "id": "43d44d57-e22a-48f6-a996-139f59e52c6a"
   },
   "outputs": [],
   "source": [
    "news_data = news_data.dropna(subset=['summary', 'title'])"
   ]
  },
  {
   "cell_type": "code",
   "execution_count": 4,
   "id": "869ffc8e-2ab2-44ff-b6f9-5a9ab9677894",
   "metadata": {
    "id": "869ffc8e-2ab2-44ff-b6f9-5a9ab9677894"
   },
   "outputs": [
    {
     "name": "stderr",
     "output_type": "stream",
     "text": [
      "[nltk_data] Downloading package vader_lexicon to\n",
      "[nltk_data]     C:\\Users\\sdrzx\\AppData\\Roaming\\nltk_data...\n",
      "[nltk_data]   Package vader_lexicon is already up-to-date!\n"
     ]
    }
   ],
   "source": [
    "import nltk\n",
    "from nltk.sentiment import SentimentIntensityAnalyzer\n",
    "nltk.download('vader_lexicon')\n",
    "sia = SentimentIntensityAnalyzer()\n",
    "# sia.polarity_scores(\"Wow, NLTK is really powerful!\")"
   ]
  },
  {
   "cell_type": "code",
   "execution_count": 5,
   "id": "ad8840e6-ca92-4748-851d-d671f9990a9f",
   "metadata": {
    "id": "ad8840e6-ca92-4748-851d-d671f9990a9f"
   },
   "outputs": [],
   "source": [
    "def get_nltk_pos(text):\n",
    "    return sia.polarity_scores(text)['pos']"
   ]
  },
  {
   "cell_type": "code",
   "execution_count": 6,
   "id": "82215218-e8b1-4aca-af9d-5035d8809d5d",
   "metadata": {
    "id": "82215218-e8b1-4aca-af9d-5035d8809d5d"
   },
   "outputs": [],
   "source": [
    "def get_nltk_neg(text):\n",
    "    return sia.polarity_scores(text)['neg']"
   ]
  },
  {
   "cell_type": "code",
   "execution_count": 7,
   "id": "571057a1-4ff1-48b3-ae9d-4c6046974e45",
   "metadata": {
    "id": "571057a1-4ff1-48b3-ae9d-4c6046974e45"
   },
   "outputs": [],
   "source": [
    "def get_nltk_neu(text):\n",
    "    return sia.polarity_scores(text)['neu']"
   ]
  },
  {
   "cell_type": "code",
   "execution_count": 8,
   "id": "4b356fbb-5df5-4e2b-9c16-482358638b9a",
   "metadata": {
    "id": "4b356fbb-5df5-4e2b-9c16-482358638b9a"
   },
   "outputs": [],
   "source": [
    "def get_nltk_compound(text):\n",
    "    return sia.polarity_scores(text)['compound']"
   ]
  },
  {
   "cell_type": "code",
   "execution_count": 9,
   "id": "be5d73d0-8694-4845-b4be-c296c64cfa2b",
   "metadata": {
    "id": "be5d73d0-8694-4845-b4be-c296c64cfa2b"
   },
   "outputs": [],
   "source": [
    "news_data[\"summary_nltk_pos\"] = news_data[\"summary\"].apply(get_nltk_pos)\n",
    "news_data[\"summary_nltk_neg\"] = news_data[\"summary\"].apply(get_nltk_neg)\n",
    "news_data[\"summary_nltk_neu\"] = news_data[\"summary\"].apply(get_nltk_neu)\n",
    "news_data[\"summary_nltk_compound\"] = news_data[\"summary\"].apply(get_nltk_compound)"
   ]
  },
  {
   "cell_type": "code",
   "execution_count": 10,
   "id": "c337424e-7dc9-4406-bae5-0602b3bdae14",
   "metadata": {
    "id": "c337424e-7dc9-4406-bae5-0602b3bdae14"
   },
   "outputs": [],
   "source": [
    "news_data[\"title_nltk_pos\"] = news_data[\"title\"].apply(get_nltk_pos)\n",
    "news_data[\"title_nltk_neg\"] = news_data[\"title\"].apply(get_nltk_neg)\n",
    "news_data[\"title_nltk_neu\"] = news_data[\"title\"].apply(get_nltk_neu)\n",
    "news_data[\"title_nltk_compound\"] = news_data[\"title\"].apply(get_nltk_compound)"
   ]
  },
  {
   "cell_type": "code",
   "execution_count": 11,
   "id": "0a768eb2-3177-4a3d-b5e1-b1ed8a89aa54",
   "metadata": {
    "id": "0a768eb2-3177-4a3d-b5e1-b1ed8a89aa54"
   },
   "outputs": [],
   "source": [
    "news_data[\"content_nltk_pos\"] = news_data[\"content\"].apply(get_nltk_pos)\n",
    "news_data[\"content_nltk_neg\"] = news_data[\"content\"].apply(get_nltk_neg)\n",
    "news_data[\"content_nltk_neu\"] = news_data[\"content\"].apply(get_nltk_neu)\n",
    "news_data[\"content_nltk_compound\"] = news_data[\"content\"].apply(get_nltk_compound)"
   ]
  },
  {
   "cell_type": "code",
   "execution_count": 12,
   "id": "70869162-078f-413c-817a-1e9dc88bfa57",
   "metadata": {
    "id": "70869162-078f-413c-817a-1e9dc88bfa57",
    "outputId": "d3dee387-2c38-4297-f11e-d53c90c64556"
   },
   "outputs": [],
   "source": [
    "from flair.models import TextClassifier\n",
    "from flair.data import Sentence"
   ]
  },
  {
   "cell_type": "code",
   "execution_count": 13,
   "id": "a3c9cb9b-39a4-4930-9965-207fb3d68a83",
   "metadata": {
    "id": "a3c9cb9b-39a4-4930-9965-207fb3d68a83"
   },
   "outputs": [],
   "source": [
    "classifier = TextClassifier.load('sentiment-fast')"
   ]
  },
  {
   "cell_type": "code",
   "execution_count": 14,
   "id": "5e5406bd-57b5-46be-af50-84a76e47a1f1",
   "metadata": {
    "id": "5e5406bd-57b5-46be-af50-84a76e47a1f1"
   },
   "outputs": [],
   "source": [
    "def get_flair_value(text):\n",
    "    sentence = Sentence(text)\n",
    "    classifier.predict(sentence)\n",
    "    return sentence.to_dict()['all labels'][0]['value']"
   ]
  },
  {
   "cell_type": "code",
   "execution_count": 15,
   "id": "ddbd7d20-07f6-4b03-9c53-0b3443d86ae5",
   "metadata": {
    "id": "ddbd7d20-07f6-4b03-9c53-0b3443d86ae5"
   },
   "outputs": [],
   "source": [
    "def get_flair_confidence(text):\n",
    "    sentence = Sentence(text)\n",
    "    classifier.predict(sentence)\n",
    "    return sentence.to_dict()['all labels'][0]['confidence']"
   ]
  },
  {
   "cell_type": "code",
   "execution_count": 16,
   "id": "ee9e45b3-ace8-4a9a-8d1d-4babc921cfe0",
   "metadata": {
    "id": "ee9e45b3-ace8-4a9a-8d1d-4babc921cfe0"
   },
   "outputs": [],
   "source": [
    "news_data[\"summary_flair_value\"] = news_data[\"summary\"].apply(get_flair_value)\n",
    "news_data[\"summary_flair_confidence\"] = news_data[\"summary\"].apply(get_flair_confidence)"
   ]
  },
  {
   "cell_type": "code",
   "execution_count": 17,
   "id": "d548e921-e642-464c-a021-c3de3007ddcb",
   "metadata": {
    "id": "d548e921-e642-464c-a021-c3de3007ddcb"
   },
   "outputs": [],
   "source": [
    "news_data[\"title_flair_value\"] = news_data[\"title\"].apply(get_flair_value)\n",
    "news_data[\"title_flair_confidence\"] = news_data[\"title\"].apply(get_flair_confidence)"
   ]
  },
  {
   "cell_type": "code",
   "execution_count": 18,
   "id": "476c5bff-37cc-4fa9-9088-adb4cf1c356f",
   "metadata": {
    "id": "476c5bff-37cc-4fa9-9088-adb4cf1c356f"
   },
   "outputs": [],
   "source": [
    "news_data[\"content_flair_value\"] = news_data[\"content\"].apply(get_flair_value)\n",
    "news_data[\"content_flair_confidence\"] = news_data[\"content\"].apply(get_flair_confidence)"
   ]
  },
  {
   "cell_type": "code",
   "execution_count": 19,
   "id": "c6784db5-e87d-421f-bb7a-4e198d1cd43b",
   "metadata": {
    "id": "c6784db5-e87d-421f-bb7a-4e198d1cd43b"
   },
   "outputs": [],
   "source": [
    "# sentence.to_dict()"
   ]
  },
  {
   "cell_type": "code",
   "execution_count": 20,
   "id": "a8a07df6-de4a-4bd0-bc49-900d0c2eeb89",
   "metadata": {
    "id": "a8a07df6-de4a-4bd0-bc49-900d0c2eeb89",
    "outputId": "84f83629-e29b-4b01-dcb6-b612840721ca"
   },
   "outputs": [
    {
     "data": {
      "text/html": [
       "<div>\n",
       "<style scoped>\n",
       "    .dataframe tbody tr th:only-of-type {\n",
       "        vertical-align: middle;\n",
       "    }\n",
       "\n",
       "    .dataframe tbody tr th {\n",
       "        vertical-align: top;\n",
       "    }\n",
       "\n",
       "    .dataframe thead th {\n",
       "        text-align: right;\n",
       "    }\n",
       "</style>\n",
       "<table border=\"1\" class=\"dataframe\">\n",
       "  <thead>\n",
       "    <tr style=\"text-align: right;\">\n",
       "      <th></th>\n",
       "      <th>url</th>\n",
       "      <th>authorsByline</th>\n",
       "      <th>articleId</th>\n",
       "      <th>clusterId</th>\n",
       "      <th>source</th>\n",
       "      <th>imageUrl</th>\n",
       "      <th>country</th>\n",
       "      <th>language</th>\n",
       "      <th>pubDate</th>\n",
       "      <th>addDate</th>\n",
       "      <th>...</th>\n",
       "      <th>content_nltk_pos</th>\n",
       "      <th>content_nltk_neg</th>\n",
       "      <th>content_nltk_neu</th>\n",
       "      <th>content_nltk_compound</th>\n",
       "      <th>summary_flair_value</th>\n",
       "      <th>summary_flair_confidence</th>\n",
       "      <th>title_flair_value</th>\n",
       "      <th>title_flair_confidence</th>\n",
       "      <th>content_flair_value</th>\n",
       "      <th>content_flair_confidence</th>\n",
       "    </tr>\n",
       "  </thead>\n",
       "  <tbody>\n",
       "    <tr>\n",
       "      <th>0</th>\n",
       "      <td>https://www.miamiherald.com/miami-com/miami-co...</td>\n",
       "      <td>Connie Ogle</td>\n",
       "      <td>5f3d97906747420c8bb6b91f12c8a6f0</td>\n",
       "      <td>a0b22ada27724ff6a47a16fd274b600d</td>\n",
       "      <td>{'domain': 'miamiherald.com'}</td>\n",
       "      <td>https://www.miamiherald.com/latest-news/3tm9yp...</td>\n",
       "      <td>us</td>\n",
       "      <td>en</td>\n",
       "      <td>2021-03-31T07:00:00+00:00</td>\n",
       "      <td>2022-01-12T14:21:27.848032+00:00</td>\n",
       "      <td>...</td>\n",
       "      <td>0.145</td>\n",
       "      <td>0.063</td>\n",
       "      <td>0.792</td>\n",
       "      <td>0.9863</td>\n",
       "      <td>POSITIVE</td>\n",
       "      <td>0.978880</td>\n",
       "      <td>POSITIVE</td>\n",
       "      <td>0.990426</td>\n",
       "      <td>POSITIVE</td>\n",
       "      <td>0.550944</td>\n",
       "    </tr>\n",
       "    <tr>\n",
       "      <th>1</th>\n",
       "      <td>https://www.newsweek.com/bitcoins-limited-supp...</td>\n",
       "      <td>Scott Reeves</td>\n",
       "      <td>40e800cf57ef421d82004a004fb298d3</td>\n",
       "      <td>447e03b55f144fe59cb8362317fd6a51</td>\n",
       "      <td>{'domain': 'newsweek.com'}</td>\n",
       "      <td>https://d.newsweek.com/en/full/1767963/chipotl...</td>\n",
       "      <td>us</td>\n",
       "      <td>en</td>\n",
       "      <td>2021-03-31T07:00:00+00:00</td>\n",
       "      <td>2021-03-31T07:00:00+00:00</td>\n",
       "      <td>...</td>\n",
       "      <td>0.094</td>\n",
       "      <td>0.049</td>\n",
       "      <td>0.857</td>\n",
       "      <td>0.9877</td>\n",
       "      <td>POSITIVE</td>\n",
       "      <td>0.931149</td>\n",
       "      <td>NEGATIVE</td>\n",
       "      <td>0.903234</td>\n",
       "      <td>POSITIVE</td>\n",
       "      <td>0.736588</td>\n",
       "    </tr>\n",
       "    <tr>\n",
       "      <th>2</th>\n",
       "      <td>https://variety.com/2021/tv/news/endeavor-ipo-...</td>\n",
       "      <td>Cynthia Littleton</td>\n",
       "      <td>360885c605e84fd5b384683c0e5eecbd</td>\n",
       "      <td>ec7159eefb2e42ed9aeef99200830130</td>\n",
       "      <td>{'domain': 'variety.com'}</td>\n",
       "      <td>https://variety.com/wp-content/uploads/2021/03...</td>\n",
       "      <td>us</td>\n",
       "      <td>en</td>\n",
       "      <td>2021-03-31T07:00:00+00:00</td>\n",
       "      <td>2021-03-31T07:00:00+00:00</td>\n",
       "      <td>...</td>\n",
       "      <td>0.087</td>\n",
       "      <td>0.024</td>\n",
       "      <td>0.889</td>\n",
       "      <td>0.9963</td>\n",
       "      <td>NEGATIVE</td>\n",
       "      <td>0.942734</td>\n",
       "      <td>NEGATIVE</td>\n",
       "      <td>0.574478</td>\n",
       "      <td>POSITIVE</td>\n",
       "      <td>0.969151</td>\n",
       "    </tr>\n",
       "    <tr>\n",
       "      <th>3</th>\n",
       "      <td>https://variety.com/2021/film/news/kurt-vonneg...</td>\n",
       "      <td>Brent Lang</td>\n",
       "      <td>1b3df2def46a4439b0797b259e1b0931</td>\n",
       "      <td>cc0cbef1efa1468daf26d6321b175063</td>\n",
       "      <td>{'domain': 'variety.com'}</td>\n",
       "      <td>https://variety.com/wp-content/uploads/2021/03...</td>\n",
       "      <td>us</td>\n",
       "      <td>en</td>\n",
       "      <td>2021-03-31T07:00:00+00:00</td>\n",
       "      <td>2021-03-31T07:00:00+00:00</td>\n",
       "      <td>...</td>\n",
       "      <td>0.093</td>\n",
       "      <td>0.069</td>\n",
       "      <td>0.838</td>\n",
       "      <td>0.8957</td>\n",
       "      <td>POSITIVE</td>\n",
       "      <td>0.999201</td>\n",
       "      <td>POSITIVE</td>\n",
       "      <td>0.991309</td>\n",
       "      <td>POSITIVE</td>\n",
       "      <td>0.999117</td>\n",
       "    </tr>\n",
       "    <tr>\n",
       "      <th>4</th>\n",
       "      <td>https://www.mlive.com/news/flint/2021/03/flint...</td>\n",
       "      <td>Dylan Goetz | dgoetz@mlive.com dgoetz</td>\n",
       "      <td>9673b473b72c44ffa6201ea73fc52676</td>\n",
       "      <td>f19d86c0045348b6b7c9cd4cf562211d</td>\n",
       "      <td>{'domain': 'mlive.com'}</td>\n",
       "      <td>https://www.mlive.com/resizer/MqBwGEow9E_6Ff7h...</td>\n",
       "      <td>us</td>\n",
       "      <td>en</td>\n",
       "      <td>2021-03-31T07:00:00+00:00</td>\n",
       "      <td>2021-03-31T07:00:00+00:00</td>\n",
       "      <td>...</td>\n",
       "      <td>0.164</td>\n",
       "      <td>0.005</td>\n",
       "      <td>0.831</td>\n",
       "      <td>0.9937</td>\n",
       "      <td>POSITIVE</td>\n",
       "      <td>0.996973</td>\n",
       "      <td>POSITIVE</td>\n",
       "      <td>0.645040</td>\n",
       "      <td>NEGATIVE</td>\n",
       "      <td>0.556297</td>\n",
       "    </tr>\n",
       "  </tbody>\n",
       "</table>\n",
       "<p>5 rows × 48 columns</p>\n",
       "</div>"
      ],
      "text/plain": [
       "                                                 url  \\\n",
       "0  https://www.miamiherald.com/miami-com/miami-co...   \n",
       "1  https://www.newsweek.com/bitcoins-limited-supp...   \n",
       "2  https://variety.com/2021/tv/news/endeavor-ipo-...   \n",
       "3  https://variety.com/2021/film/news/kurt-vonneg...   \n",
       "4  https://www.mlive.com/news/flint/2021/03/flint...   \n",
       "\n",
       "                           authorsByline                         articleId  \\\n",
       "0                            Connie Ogle  5f3d97906747420c8bb6b91f12c8a6f0   \n",
       "1                           Scott Reeves  40e800cf57ef421d82004a004fb298d3   \n",
       "2                      Cynthia Littleton  360885c605e84fd5b384683c0e5eecbd   \n",
       "3                             Brent Lang  1b3df2def46a4439b0797b259e1b0931   \n",
       "4  Dylan Goetz | dgoetz@mlive.com dgoetz  9673b473b72c44ffa6201ea73fc52676   \n",
       "\n",
       "                          clusterId                         source  \\\n",
       "0  a0b22ada27724ff6a47a16fd274b600d  {'domain': 'miamiherald.com'}   \n",
       "1  447e03b55f144fe59cb8362317fd6a51     {'domain': 'newsweek.com'}   \n",
       "2  ec7159eefb2e42ed9aeef99200830130      {'domain': 'variety.com'}   \n",
       "3  cc0cbef1efa1468daf26d6321b175063      {'domain': 'variety.com'}   \n",
       "4  f19d86c0045348b6b7c9cd4cf562211d        {'domain': 'mlive.com'}   \n",
       "\n",
       "                                            imageUrl country language  \\\n",
       "0  https://www.miamiherald.com/latest-news/3tm9yp...      us       en   \n",
       "1  https://d.newsweek.com/en/full/1767963/chipotl...      us       en   \n",
       "2  https://variety.com/wp-content/uploads/2021/03...      us       en   \n",
       "3  https://variety.com/wp-content/uploads/2021/03...      us       en   \n",
       "4  https://www.mlive.com/resizer/MqBwGEow9E_6Ff7h...      us       en   \n",
       "\n",
       "                     pubDate                           addDate  ...  \\\n",
       "0  2021-03-31T07:00:00+00:00  2022-01-12T14:21:27.848032+00:00  ...   \n",
       "1  2021-03-31T07:00:00+00:00         2021-03-31T07:00:00+00:00  ...   \n",
       "2  2021-03-31T07:00:00+00:00         2021-03-31T07:00:00+00:00  ...   \n",
       "3  2021-03-31T07:00:00+00:00         2021-03-31T07:00:00+00:00  ...   \n",
       "4  2021-03-31T07:00:00+00:00         2021-03-31T07:00:00+00:00  ...   \n",
       "\n",
       "  content_nltk_pos  content_nltk_neg content_nltk_neu content_nltk_compound  \\\n",
       "0            0.145             0.063            0.792                0.9863   \n",
       "1            0.094             0.049            0.857                0.9877   \n",
       "2            0.087             0.024            0.889                0.9963   \n",
       "3            0.093             0.069            0.838                0.8957   \n",
       "4            0.164             0.005            0.831                0.9937   \n",
       "\n",
       "  summary_flair_value summary_flair_confidence title_flair_value  \\\n",
       "0            POSITIVE                 0.978880          POSITIVE   \n",
       "1            POSITIVE                 0.931149          NEGATIVE   \n",
       "2            NEGATIVE                 0.942734          NEGATIVE   \n",
       "3            POSITIVE                 0.999201          POSITIVE   \n",
       "4            POSITIVE                 0.996973          POSITIVE   \n",
       "\n",
       "  title_flair_confidence content_flair_value content_flair_confidence  \n",
       "0               0.990426            POSITIVE                 0.550944  \n",
       "1               0.903234            POSITIVE                 0.736588  \n",
       "2               0.574478            POSITIVE                 0.969151  \n",
       "3               0.991309            POSITIVE                 0.999117  \n",
       "4               0.645040            NEGATIVE                 0.556297  \n",
       "\n",
       "[5 rows x 48 columns]"
      ]
     },
     "execution_count": 20,
     "metadata": {},
     "output_type": "execute_result"
    }
   ],
   "source": [
    "news_data.head(5)"
   ]
  },
  {
   "cell_type": "code",
   "execution_count": 21,
   "id": "ab772a0f-2a8c-45d6-a8e3-c6b28cb29bb0",
   "metadata": {
    "id": "ab772a0f-2a8c-45d6-a8e3-c6b28cb29bb0"
   },
   "outputs": [],
   "source": [
    "news_data.to_pickle(\"temp.pkl\")"
   ]
  },
  {
   "cell_type": "markdown",
   "id": "ae054ada-0126-4a84-847b-7cf95af1460d",
   "metadata": {
    "id": "ae054ada-0126-4a84-847b-7cf95af1460d"
   },
   "source": [
    "### Trading date"
   ]
  },
  {
   "cell_type": "code",
   "execution_count": 22,
   "id": "6d06cca6-0b3a-4e0b-822e-35ef79325bcb",
   "metadata": {
    "id": "6d06cca6-0b3a-4e0b-822e-35ef79325bcb"
   },
   "outputs": [],
   "source": [
    "import pandas as pd\n",
    "import numpy as np\n",
    "news_data = pd.read_pickle(\"temp.pkl\")"
   ]
  },
  {
   "cell_type": "code",
   "execution_count": 23,
   "id": "f90c9bcb-488a-4433-95fa-67bd771bcf67",
   "metadata": {
    "id": "f90c9bcb-488a-4433-95fa-67bd771bcf67"
   },
   "outputs": [],
   "source": [
    "stock_data_df = pd.read_pickle(\"stock_price_all.pkl\")"
   ]
  },
  {
   "cell_type": "code",
   "execution_count": 24,
   "id": "182f21af-3bda-49dd-a41c-f84e8ca5173b",
   "metadata": {
    "id": "182f21af-3bda-49dd-a41c-f84e8ca5173b"
   },
   "outputs": [],
   "source": [
    "trading_date = stock_data_df.index"
   ]
  },
  {
   "cell_type": "code",
   "execution_count": 25,
   "id": "199f5745-3395-4eae-b68c-a61743f71c5b",
   "metadata": {
    "id": "199f5745-3395-4eae-b68c-a61743f71c5b"
   },
   "outputs": [],
   "source": [
    "news_data['pubDate_date_only'] = news_data['pubDate'].str[:10]\n",
    "news_data['pubDate_date_only'] = pd.to_datetime(news_data['pubDate_date_only'])"
   ]
  },
  {
   "cell_type": "code",
   "execution_count": 26,
   "id": "f3e0a2c1-e26c-47c6-97c4-61f4be902113",
   "metadata": {
    "id": "f3e0a2c1-e26c-47c6-97c4-61f4be902113"
   },
   "outputs": [],
   "source": [
    "news_data['summary_flair_score'] = np.where(news_data['summary_flair_value'] == \"POSITIVE\", \\\n",
    "                                            news_data['summary_flair_confidence'], \\\n",
    "                                            1 - news_data['summary_flair_confidence'])\n",
    "\n",
    "news_data['title_flair_score'] = np.where(news_data['title_flair_value'] == \"POSITIVE\", \\\n",
    "                                          news_data['title_flair_confidence'], \\\n",
    "                                          1 - news_data['title_flair_confidence'])\n",
    "\n",
    "news_data['content_flair_score'] = np.where(news_data['content_flair_value'] == \"POSITIVE\", \\\n",
    "                                            news_data['content_flair_confidence'], \\\n",
    "                                            1 - news_data['content_flair_confidence'])"
   ]
  },
  {
   "cell_type": "code",
   "execution_count": 27,
   "id": "aa9904a0-5750-46cf-8810-62b018f96de0",
   "metadata": {
    "id": "aa9904a0-5750-46cf-8810-62b018f96de0",
    "outputId": "f1a606ed-6be5-4ae1-a045-a60b857f309d"
   },
   "outputs": [
    {
     "data": {
      "text/plain": [
       "Index(['url', 'authorsByline', 'articleId', 'clusterId', 'source', 'imageUrl',\n",
       "       'country', 'language', 'pubDate', 'addDate', 'refreshDate', 'score',\n",
       "       'title', 'description', 'content', 'medium', 'labels', 'matchedAuthors',\n",
       "       'claim', 'verdict', 'keywords', 'topics', 'categories', 'entities',\n",
       "       'sentiment', 'summary', 'translation', 'locations', 'reprint', 'places',\n",
       "       'summary_nltk_pos', 'summary_nltk_neg', 'summary_nltk_neu',\n",
       "       'summary_nltk_compound', 'title_nltk_pos', 'title_nltk_neg',\n",
       "       'title_nltk_neu', 'title_nltk_compound', 'content_nltk_pos',\n",
       "       'content_nltk_neg', 'content_nltk_neu', 'content_nltk_compound',\n",
       "       'summary_flair_value', 'summary_flair_confidence', 'title_flair_value',\n",
       "       'title_flair_confidence', 'content_flair_value',\n",
       "       'content_flair_confidence', 'pubDate_date_only', 'summary_flair_score',\n",
       "       'title_flair_score', 'content_flair_score'],\n",
       "      dtype='object')"
      ]
     },
     "execution_count": 27,
     "metadata": {},
     "output_type": "execute_result"
    }
   ],
   "source": [
    "news_data.columns"
   ]
  },
  {
   "cell_type": "code",
   "execution_count": 28,
   "id": "0d511430-db4e-4992-b58b-171a75032186",
   "metadata": {
    "id": "0d511430-db4e-4992-b58b-171a75032186"
   },
   "outputs": [],
   "source": [
    "news_data_df = news_data[['summary_nltk_pos', 'summary_nltk_neg', 'summary_nltk_neu',\n",
    "                                   'summary_nltk_compound', 'title_nltk_pos', 'title_nltk_neg',\n",
    "                                   'title_nltk_neu', 'title_nltk_compound', 'content_nltk_pos',\n",
    "                                   'content_nltk_neg', 'content_nltk_neu', 'content_nltk_compound',\n",
    "                                   'pubDate_date_only', 'summary_flair_score',\n",
    "                                   'title_flair_score', 'content_flair_score']]"
   ]
  },
  {
   "cell_type": "code",
   "execution_count": 29,
   "id": "e30c45da-4b0b-4edd-a1ab-ed4194ebdc82",
   "metadata": {
    "id": "e30c45da-4b0b-4edd-a1ab-ed4194ebdc82"
   },
   "outputs": [],
   "source": [
    "# news_data_df.summary_nltk_pos.max()"
   ]
  },
  {
   "cell_type": "markdown",
   "id": "00059b79-10e4-4235-b883-5b591770500c",
   "metadata": {
    "id": "00059b79-10e4-4235-b883-5b591770500c"
   },
   "source": [
    "create a df with trading date inside <br/>\n",
    "for each trading date <br/>\n",
    "    if the news_data_calculate_avg has trading date: <br/>\n",
    "        calculate the avg on trading date <br/>\n",
    "        return the avg <br/>\n",
    "    elif the news_data_calculate_avg dont have trading date: <br/>\n",
    "        calcuate the expo moving avg from today to 6 days"
   ]
  },
  {
   "cell_type": "code",
   "execution_count": 30,
   "id": "b0f688d8-a089-42be-adb8-ca73511f47e4",
   "metadata": {
    "id": "b0f688d8-a089-42be-adb8-ca73511f47e4"
   },
   "outputs": [],
   "source": [
    "trading_date_df = pd.DataFrame(trading_date)"
   ]
  },
  {
   "cell_type": "code",
   "execution_count": 31,
   "id": "38ee6958-a0a8-4c24-9cc2-b05d8f0431c6",
   "metadata": {
    "id": "38ee6958-a0a8-4c24-9cc2-b05d8f0431c6"
   },
   "outputs": [],
   "source": [
    "news_data_df_grouped = news_data_df.groupby('pubDate_date_only').mean().reset_index()\n",
    "merged = pd.merge(trading_date_df, news_data_df_grouped, left_on='Date', right_on='pubDate_date_only', how='left')\n",
    "merged = merged.drop(columns='pubDate_date_only')\n",
    "\n",
    "news_data_df_grouped_rolling = news_data_df.groupby('pubDate_date_only').mean().rolling(6).mean().reset_index()"
   ]
  },
  {
   "cell_type": "code",
   "execution_count": 32,
   "id": "8987b449-e4b2-422c-ace3-8adb8342c49c",
   "metadata": {
    "id": "8987b449-e4b2-422c-ace3-8adb8342c49c",
    "tags": []
   },
   "outputs": [],
   "source": [
    "merged_na = merged[merged.isna().any(axis=1)]\n",
    "\n",
    "for i, r in merged_na.iterrows():\n",
    "    curDate = r['Date']\n",
    "    minDateDiff = pd.to_timedelta('365 days 00:00:00')\n",
    "    r_columns = ['summary_nltk_pos', 'summary_nltk_neg', 'summary_nltk_neu',\n",
    "               'summary_nltk_compound', 'title_nltk_pos', 'title_nltk_neg',\n",
    "               'title_nltk_neu', 'title_nltk_compound', 'content_nltk_pos',\n",
    "               'content_nltk_neg', 'content_nltk_neu', 'content_nltk_compound',\n",
    "               'summary_flair_score', 'title_flair_score', 'content_flair_score']\n",
    "    r_value = dict.fromkeys(r_columns)\n",
    "    \n",
    "    for index, row in news_data_df_grouped_rolling.iterrows():\n",
    "        if (abs(curDate - row['pubDate_date_only']) < minDateDiff) & ((curDate - row['pubDate_date_only']) > pd.to_timedelta('0 days 00:00:00')):\n",
    "            minDateDiff = abs(curDate - row['pubDate_date_only'])\n",
    "            \n",
    "            for col in r_columns:\n",
    "                r_value[col] = row[col]\n",
    "    \n",
    "    # print(minDateDiff)            \n",
    "    for col in r_columns:\n",
    "        merged_na.at[i, col] = r_value[col]"
   ]
  },
  {
   "cell_type": "code",
   "execution_count": 33,
   "id": "c6087f11-3fdc-409d-a04b-c5f41f7b792b",
   "metadata": {
    "id": "c6087f11-3fdc-409d-a04b-c5f41f7b792b"
   },
   "outputs": [],
   "source": [
    "final_df = pd.concat([merged.dropna(), merged_na]).sort_values('Date')"
   ]
  },
  {
   "cell_type": "code",
   "execution_count": 34,
   "id": "de52f429-4914-4943-a1e7-7e38c8bfcf35",
   "metadata": {
    "id": "de52f429-4914-4943-a1e7-7e38c8bfcf35",
    "outputId": "5cbd0543-4aa5-4fa7-8e85-43a3672de153"
   },
   "outputs": [
    {
     "data": {
      "text/plain": [
       "<AxesSubplot:>"
      ]
     },
     "execution_count": 34,
     "metadata": {},
     "output_type": "execute_result"
    },
    {
     "data": {
      "image/png": "[encoded data removed]",
      "text/plain": [
       "<Figure size 640x480 with 1 Axes>"
      ]
     },
     "metadata": {},
     "output_type": "display_data"
    }
   ],
   "source": [
    "final_df.content_flair_score.plot()"
   ]
  },
  {
   "cell_type": "code",
   "execution_count": 35,
   "id": "7a4276f8-31b0-4ec5-878f-eabc2a4b24c1",
   "metadata": {
    "id": "7a4276f8-31b0-4ec5-878f-eabc2a4b24c1"
   },
   "outputs": [],
   "source": [
    "final_df.to_pickle('news_sen_score.pkl')"
   ]
  },
  {
   "cell_type": "code",
   "execution_count": null,
   "id": "0f79ac31-2bf9-449c-b66a-1f9bc922e406",
   "metadata": {
    "id": "0f79ac31-2bf9-449c-b66a-1f9bc922e406"
   },
   "outputs": [],
   "source": []
  }
 ],
 "metadata": {
  "colab": {
   "provenance": []
  },
  "kernelspec": {
   "display_name": "Python 3 (ipykernel)",
   "language": "python",
   "name": "python3"
  },
  "language_info": {
   "codemirror_mode": {
    "name": "ipython",
    "version": 3
   },
   "file_extension": ".py",
   "mimetype": "text/x-python",
   "name": "python",
   "nbconvert_exporter": "python",
   "pygments_lexer": "ipython3",
   "version": "3.9.13"
  }
 },
 "nbformat": 4,
 "nbformat_minor": 5
}
