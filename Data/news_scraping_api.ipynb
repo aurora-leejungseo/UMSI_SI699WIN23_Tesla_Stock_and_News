{
 "cells": [
  {
   "cell_type": "code",
   "execution_count": 2,
   "id": "2972bc8d-df1a-48b3-8214-163409e93819",
   "metadata": {},
   "outputs": [],
   "source": [
    "import pandas as pd\n",
    "import requests\n",
    "import csv\n",
    "from datetime import datetime\n",
    "from datetime import date, timedelta as td\n",
    "from dateutil.relativedelta import *"
   ]
  },
  {
   "cell_type": "code",
   "execution_count": 3,
   "id": "98956da7",
   "metadata": {},
   "outputs": [],
   "source": [
    "# setting API call basic links\n",
    "# scapping api: https://www.goperigon.com/account/api-key\n",
    "\n",
    "API_KEY = #<your_key>\n",
    "ALL_URL = f\"https://api.goperigon.com/v1/all?apiKey={API_KEY}\"\n",
    "from_date = datetime(2021,1,1).date()\n",
    "to_date = datetime(2021,3,31).date()\n",
    "country = 'us'\n",
    "keywords = f\"'Tesla' OR 'automotive' OR 'Elon Musk'\""
   ]
  },
  {
   "cell_type": "code",
   "execution_count": 5,
   "id": "d5d05e08-d2c5-4008-97b7-9c617d798afe",
   "metadata": {},
   "outputs": [
    {
     "name": "stdout",
     "output_type": "stream",
     "text": [
      "2021-01-01 2021-03-31\n",
      "2021-04-01 2021-06-30\n",
      "2021-07-01 2021-09-30\n",
      "2021-10-01 2021-12-30\n",
      "2022-01-01 2022-03-30\n",
      "2022-04-01 2022-06-30\n",
      "2022-07-01 2022-09-30\n",
      "2022-10-01 2022-12-30\n",
      "2023-01-01 2023-03-30\n"
     ]
    }
   ],
   "source": [
    "# setting for loops for call request\n",
    "\n",
    "target_date = datetime(2023, 4, 1).date()\n",
    "\n",
    "while to_date < target_date:\n",
    "    print(from_date, to_date)\n",
    "    for page in range(0,20):\n",
    "        #print(page)\n",
    "        resp = requests.get(f\"{ALL_URL}&from={from_date}&to={to_date}&country={country}&sourceGroup=top100&showNumResults=true&showReprints=false&excludeLabel=Non-news&excludeLabel=Opinion&excludeLabel=Paid News&excludeLabel=Roundup&excludeLabel=Press Release&sortBy=date&language=en&q={keywords}&medium=Article&size=100&page={page}\")\n",
    "        results = resp.json()\n",
    "        #print(results.keys())\n",
    "        article = results['articles']\n",
    "        if article == []:\n",
    "            break\n",
    "        else:\n",
    "            #print(article[0])\n",
    "        \n",
    "            if (from_date == datetime(2021,1,1).date()) and (page==0):\n",
    "                keys = article[0].keys()\n",
    "                mode = 'w'\n",
    "            else:\n",
    "                mode = 'a'\n",
    "                keys = ['url', 'authorsByline', 'articleId', 'clusterId', 'source', 'imageUrl',\n",
    "       'country', 'language', 'pubDate', 'addDate', 'refreshDate', 'score',\n",
    "       'title', 'description', 'content', 'medium', 'labels', 'matchedAuthors',\n",
    "       'claim', 'verdict', 'keywords', 'topics', 'categories', 'entities',\n",
    "       'sentiment', 'summary', 'translation', 'locations', 'reprint',\n",
    "       'places']\n",
    "                \n",
    "            with open('output.csv', mode, encoding='utf-8') as output_file:\n",
    "                if mode == 'w':\n",
    "                    f = csv.writer(output_file)\n",
    "                    f.writerow(keys)\n",
    "                    header_added = True\n",
    "                    \n",
    "                dict_writer = csv.DictWriter(output_file, keys, extrasaction='ignore')\n",
    "                dict_writer.writerows(article)\n",
    "        \n",
    "    from_date = from_date + relativedelta(months=+3)\n",
    "    to_date = to_date + relativedelta(months=+3)"
   ]
  },
  {
   "cell_type": "code",
   "execution_count": null,
   "id": "73173886",
   "metadata": {},
   "outputs": [],
   "source": []
  }
 ],
 "metadata": {
  "kernelspec": {
   "display_name": "Python 3 (ipykernel)",
   "language": "python",
   "name": "python3"
  },
  "language_info": {
   "codemirror_mode": {
    "name": "ipython",
    "version": 3
   },
   "file_extension": ".py",
   "mimetype": "text/x-python",
   "name": "python",
   "nbconvert_exporter": "python",
   "pygments_lexer": "ipython3",
   "version": "3.9.13"
  }
 },
 "nbformat": 4,
 "nbformat_minor": 5
}
